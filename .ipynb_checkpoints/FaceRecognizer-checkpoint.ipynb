{
 "cells": [
  {
   "cell_type": "code",
   "execution_count": 1,
   "metadata": {},
   "outputs": [],
   "source": [
    "# Generate Dataset\n",
    "# Train the classifier\n",
    "# Detect the face and named it if it is already stored in our dataset\n"
   ]
  },
  {
   "cell_type": "markdown",
   "metadata": {},
   "source": [
    "# Generate Dataset"
   ]
  },
  {
   "cell_type": "code",
   "execution_count": 2,
   "metadata": {},
   "outputs": [],
   "source": [
    "import cv2"
   ]
  },
  {
   "cell_type": "code",
   "execution_count": 3,
   "metadata": {},
   "outputs": [
    {
     "name": "stderr",
     "output_type": "stream",
     "text": [
      "<>:10: SyntaxWarning: \"is\" with a literal. Did you mean \"==\"?\n",
      "<>:10: SyntaxWarning: \"is\" with a literal. Did you mean \"==\"?\n",
      "<ipython-input-3-86b75c36d4b9>:10: SyntaxWarning: \"is\" with a literal. Did you mean \"==\"?\n",
      "  if faces is ():\n"
     ]
    }
   ],
   "source": [
    "def generate_dataset():\n",
    "    face_classifier = cv2.CascadeClassifier(\"haarcascade_frontalface_default.xml\")\n",
    "    def face_cropped(img):\n",
    "        gray = cv2.cvtColor(img, cv2.COLOR_BGR2GRAY)\n",
    "        #Converts RGB color to gray\n",
    "        faces = face_classifier.detectMultiScale(gray,1.3,5)\n",
    "        #1.3 is scaling factor\n",
    "        #Minimum neighbour = 5 upto what much neighbour you are going to detect face\n",
    "        \n",
    "        if faces is ():\n",
    "            return None\n",
    "        for(x,y,w,h) in faces:\n",
    "            cropped_face=img[y:y+h,x:x+w] #Cropping images for only face part, h means height and w means width\n",
    "        return cropped_face    \n",
    "    \n",
    "    cap = cv2.VideoCapture(0) #Laptop ko camera so value 0, aru bhaye 1 or -1\n",
    "    id=1 #id of first authorised person\n",
    "    img_id=0 # img id means no of image of each authorised person\n",
    "    \n",
    "    while True:\n",
    "        ret, frame = cap.read() #frame means our img\n",
    "        if face_cropped(frame) is not None:   # yo frame pass garnae func ma mathi and then returns cropped face\n",
    "            img_id+=1 # arko user ko lagee id=2 rakhera garnae\n",
    "            face = cv2.resize(face_cropped(frame),(200,200)) #200 rows and columns\n",
    "            face = cv2.cvtColor(face, cv2.COLOR_BGR2GRAY)\n",
    "            file_name_path = \"data/user.\"+str(id)+\".\"+str(img_id)+\".jpg\" #img ko name user 1.1 tesari xa and convert into jpeg formatt\n",
    "            cv2.imwrite(file_name_path,face) #store my face in that file_name_path\n",
    "            cv2.putText(face,str(img_id),(50,50),cv2.FONT_HERSHEY_COMPLEX,1, (0,255,0),2)\n",
    "            # (50,50) is the origin point where text is to be written\n",
    "            # font-scale =1 # 0,255,0 is the color\n",
    "            #thickness = 2\n",
    "            \n",
    "            cv2.imshow(\"Cropped face\",face)\n",
    "            if cv2.waitKey(1)==13 or int(img_id)==200: # 13 means ASCII value of Enter key and 27 is for Esc key\n",
    "                break\n",
    "    cap.release()    \n",
    "    cv2.destroyAllWindows()\n",
    "    print(\"Collecting samples is completed.......\")\n",
    "\n",
    "#generate_dataset()\n",
    "                "
   ]
  },
  {
   "cell_type": "markdown",
   "metadata": {},
   "source": [
    "# Train the classifier and save it"
   ]
  },
  {
   "cell_type": "code",
   "execution_count": 4,
   "metadata": {},
   "outputs": [],
   "source": [
    "import numpy as np\n",
    "from PIL import Image\n",
    "import os\n",
    "import cv2"
   ]
  },
  {
   "cell_type": "code",
   "execution_count": null,
   "metadata": {},
   "outputs": [],
   "source": [
    "def train_classifier(data_dir):\n",
    "    path = [os.path.join(data_dir,f) for f in os.listdir(data_dir)]\n",
    "    #stored img ko path lai pass garnae data_dir ko rup ma and and join my data to f\n",
    "    #f means image, f means listdir(data_dir) \n",
    "    # we'll pass data_dir to func os.lis wala and it'l list my all img \n",
    "    # and it'll join my list to tyo join(data_dir,f)\n",
    "    # tyo path ma \\1.1 jpg tesari basdai janxa\n",
    "    # tyo for f bhaneko m img in data_dir directory\n",
    "    faces = []\n",
    "    ids = []\n",
    "    \n",
    "    for image in path:\n",
    "        img = Image.open(image).convert('L');\n",
    "        #to convert img to gray, this is another img\n",
    "        imageNp = np.array(img, 'uint8') #u int 8 is a type\n",
    "        id = int(os.path.split(image)[1].split(\".\")[1])\n",
    "        #split gareko c:\\Users yesto lai split gareko\n",
    "        #C:\\Users\\Jonathan\\Desktop\\Face Recognizer\\data\\user.1.1.jpg\n",
    "        # suru dekhi data samma 0 index tespaxi user dekhi 1 index bhaneko\n",
    "        #1.1 ma agadee ko 1 index 1 ma and second wala 1 second index ma\n",
    "        # agadee ko 1.1 ko 1 chahee id ma janxa\n",
    "        \n",
    "        faces.append(imageNp)\n",
    "        ids.append(id) # mathi ko id = os. wala ra ids[] append gareko\n",
    "    ids = np.array(ids) #converting ids to array format\n",
    "    \n",
    "    #Train the classifier and save\n",
    "    clf = cv2.face.LBPHFaceRecognizer_create()\n",
    "    # using LBPH face recognizer to train the classifier\n",
    "    clf.train(faces,ids) #passing faces, and ids to classifier\n",
    "    clf.write(\"classifier.xml\") # to save\n",
    "train_classifier(\"data\")  \n",
    "        "
   ]
  },
  {
   "cell_type": "markdown",
   "metadata": {},
   "source": [
    "# Detect the face and named it if it is already stored in our dataset\n"
   ]
  },
  {
   "cell_type": "code",
   "execution_count": 7,
   "metadata": {},
   "outputs": [],
   "source": [
    "import cv2\n",
    "import numpy as np\n",
    "from PIL import Image\n",
    "import os\n"
   ]
  },
  {
   "cell_type": "code",
   "execution_count": 10,
   "metadata": {},
   "outputs": [],
   "source": [
    "def draw_boundary(img,classifier,scaleFactor,minNeighbors,color,text,clf):\n",
    "    gray_image = cv2.cvtColor(img, cv2.COLOR_BGR2GRAY)\n",
    "    features = classifier.detectMultiScale(gray_image,scaleFactor,minNeighbors)\n",
    "    # I will not pass value over here, I will pass above parameter\n",
    "    \n",
    "    coords = [] \n",
    "    \n",
    "    for(x,y,w,h) in features:\n",
    "        cv2.rectangle(img,(x,y),(x+w,y+h),color,2)\n",
    "        #Draw rectangle to RGB image or live video from webcam so I have to pass\n",
    "        #real img not gray image 2 is thickness value\n",
    "        #To predict my image, I have to crop my real image and convert to gray image\n",
    "        # so draw rectangle to real image\n",
    "        id,pred = clf.predict(gray_image[y:y+h,x:x+w]) # predict my face from gra scale image as g image in dataset\n",
    "        #tyo y: y+h crop gareko # classifier lai deko to predict id and pred value\n",
    "        # id is the prediction value, 1 ho 1.1 ko and we'll use this to\n",
    "        #calculate confidence percentage for similarity\n",
    "        confidence = int(100*(1-pred/300)) #Formula\n",
    "        # this value will show whether authorize img or not\n",
    "        \n",
    "        if confidence>77: #77 % huna paryo\n",
    "            if id==1:             #if classifier predict id is 1 then\n",
    "                cv2.putText(img,\"Jonathan\",(x,y-5),cv2.FONT_HERSHEY_SIMPLEX,0.8,color,1,cv2.LINE_AA)\n",
    "            #0.8 Font scale value then color value, then thickness,then style of boundary line\n",
    "            #cursor lai FONT_HERSHEY ma lagera shift + tab thixda parameter format dekhauxa\n",
    "            # if id==2:      #if classifier predict id is 1 then\n",
    "            # cv2.putText(img,\"Another User Name\",(x,y-5),cv2.FONT_HERSHEY_SIMPLEX,0.8,color,1,cv2.LINE_AA)\n",
    "            else:\n",
    "                cv2.putText(img,\"UNKNOWN\",(x,y-5),cv2.FONT_HERSHEY_SIMPLEX,0.8,(0,0,255),1,cv2.LINE_AA)\n",
    "                  #0,0,255 bhaneko red color ho BGR anusar\n",
    "            \n",
    "            coords=[x,y,w,h]\n",
    "    return coords # return coordinates  \n",
    "\n",
    "def recognize(img,clf,faceCascade):\n",
    "    coords = draw_boundary(img,faceCascade,1.1,10,(255,255,255),\"Face\",clf)\n",
    "    # faceCascade means classifier, means higher cascade from the face\n",
    "    # 1.1 - Scale Factor, 10 - min neighbor, color is white 255,255,255\n",
    "    #rename it as face and pass same classifier clf\n",
    "    return img\n",
    "    \n",
    "faceCascade = cv2.CascadeClassifier(\"haarcascade_frontalface_default.xml\")\n",
    "# clf - to train the classifier and save 2nd part ma xa\n",
    "clf = cv2.face.LBPHFaceRecognizer_create()\n",
    "clf.read(\"classifier.xml\")\n",
    "\n",
    "video_capture = cv2.VideoCapture(0) #open camera from laptop\n",
    "\n",
    "while True:\n",
    "    ret, img = video_capture.read() # return image\n",
    "    img = recognize(img,clf,faceCascade) #get my img from webcam\n",
    "    cv2.imshow(\"Face Detection\",img)\n",
    "    \n",
    "    if cv2.waitKey(1)==13:\n",
    "        break\n",
    "video_capture.release()\n",
    "cv2.destroyAllWindows()\n",
    "\n",
    "#crop face, convert it to gray image -----> classifier\n",
    "# To draw rectangle, I have to give my real image that comes from my webcam\n"
   ]
  },
  {
   "cell_type": "code",
   "execution_count": null,
   "metadata": {},
   "outputs": [],
   "source": []
  }
 ],
 "metadata": {
  "kernelspec": {
   "display_name": "Python 3",
   "language": "python",
   "name": "python3"
  },
  "language_info": {
   "codemirror_mode": {
    "name": "ipython",
    "version": 3
   },
   "file_extension": ".py",
   "mimetype": "text/x-python",
   "name": "python",
   "nbconvert_exporter": "python",
   "pygments_lexer": "ipython3",
   "version": "3.8.2"
  }
 },
 "nbformat": 4,
 "nbformat_minor": 4
}
